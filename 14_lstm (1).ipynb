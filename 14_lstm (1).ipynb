{
  "nbformat": 4,
  "nbformat_minor": 0,
  "metadata": {
    "colab": {
      "name": "14 lstm.ipynb",
      "version": "0.3.2",
      "provenance": [],
      "collapsed_sections": [],
      "toc_visible": true
    },
    "kernelspec": {
      "name": "python3",
      "display_name": "Python 3"
    },
    "accelerator": "GPU"
  },
  "cells": [
    {
      "metadata": {
        "id": "aklz6dpxAvvu",
        "colab_type": "code",
        "colab": {}
      },
      "cell_type": "code",
      "source": [
        "import numpy as np\n",
        "import pandas as pd\n",
        "from keras.models import Sequential\n",
        "from keras.layers import Dense\n",
        "from keras.layers import Dropout\n",
        "from keras.layers.embeddings import Embedding\n",
        "from keras.preprocessing import sequence\n",
        "from keras.layers import LSTM\n",
        "from prettytable import PrettyTable"
      ],
      "execution_count": 0,
      "outputs": []
    },
    {
      "metadata": {
        "id": "2D7fsDVsqnRl",
        "colab_type": "code",
        "outputId": "940800c2-56aa-4ec8-a672-6bf3305b01b5",
        "colab": {
          "base_uri": "https://localhost:8080/",
          "height": 35
        }
      },
      "cell_type": "code",
      "source": [
        "import os\n",
        "print(os.getcwd())"
      ],
      "execution_count": 3,
      "outputs": [
        {
          "output_type": "stream",
          "text": [
            "/content\n"
          ],
          "name": "stdout"
        }
      ]
    },
    {
      "metadata": {
        "id": "dL41tbEMhkr9",
        "colab_type": "code",
        "colab": {
          "base_uri": "https://localhost:8080/",
          "height": 87
        },
        "outputId": "44305bca-0dd6-40ab-8288-78e6620e6199"
      },
      "cell_type": "code",
      "source": [
        "table = PrettyTable()\n",
        "table.field_names = [\"layer of Lstm\", \"Accuracy\"]\n",
        "print(table)"
      ],
      "execution_count": 17,
      "outputs": [
        {
          "output_type": "stream",
          "text": [
            "+---------------+----------+\n",
            "| layer of Lstm | Accuracy |\n",
            "+---------------+----------+\n",
            "+---------------+----------+\n"
          ],
          "name": "stdout"
        }
      ]
    },
    {
      "metadata": {
        "id": "qt31CExNDzN2",
        "colab_type": "code",
        "outputId": "808e3351-bdd2-49eb-dab3-5c8bf178eb45",
        "colab": {
          "base_uri": "https://localhost:8080/",
          "height": 35
        }
      },
      "cell_type": "code",
      "source": [
        "df2 = pd.read_pickle(\"./file_name.pkl\")\n",
        "df2.shape"
      ],
      "execution_count": 4,
      "outputs": [
        {
          "output_type": "execute_result",
          "data": {
            "text/plain": [
              "(50000, 2)"
            ]
          },
          "metadata": {
            "tags": []
          },
          "execution_count": 4
        }
      ]
    },
    {
      "metadata": {
        "id": "HhFePFFUDzMr",
        "colab_type": "code",
        "outputId": "50ace549-5d9a-47b8-cb82-c73d11d2ef83",
        "colab": {
          "base_uri": "https://localhost:8080/",
          "height": 191
        }
      },
      "cell_type": "code",
      "source": [
        "df2.head()"
      ],
      "execution_count": 5,
      "outputs": [
        {
          "output_type": "execute_result",
          "data": {
            "text/html": [
              "<div>\n",
              "<style scoped>\n",
              "    .dataframe tbody tr th:only-of-type {\n",
              "        vertical-align: middle;\n",
              "    }\n",
              "\n",
              "    .dataframe tbody tr th {\n",
              "        vertical-align: top;\n",
              "    }\n",
              "\n",
              "    .dataframe thead th {\n",
              "        text-align: right;\n",
              "    }\n",
              "</style>\n",
              "<table border=\"1\" class=\"dataframe\">\n",
              "  <thead>\n",
              "    <tr style=\"text-align: right;\">\n",
              "      <th></th>\n",
              "      <th>text</th>\n",
              "      <th>score</th>\n",
              "    </tr>\n",
              "  </thead>\n",
              "  <tbody>\n",
              "    <tr>\n",
              "      <th>0</th>\n",
              "      <td>witti littl book make son laugh loud recit car...</td>\n",
              "      <td>1</td>\n",
              "    </tr>\n",
              "    <tr>\n",
              "      <th>1</th>\n",
              "      <td>rememb see show air televis year ago child sis...</td>\n",
              "      <td>1</td>\n",
              "    </tr>\n",
              "    <tr>\n",
              "      <th>2</th>\n",
              "      <td>beetlejuic well written movi everyth excel act...</td>\n",
              "      <td>1</td>\n",
              "    </tr>\n",
              "    <tr>\n",
              "      <th>3</th>\n",
              "      <td>twist rumplestiskin captur film star michael k...</td>\n",
              "      <td>1</td>\n",
              "    </tr>\n",
              "    <tr>\n",
              "      <th>4</th>\n",
              "      <td>beetlejuic excel funni movi keaton hilari wack...</td>\n",
              "      <td>1</td>\n",
              "    </tr>\n",
              "  </tbody>\n",
              "</table>\n",
              "</div>"
            ],
            "text/plain": [
              "                                                text  score\n",
              "0  witti littl book make son laugh loud recit car...      1\n",
              "1  rememb see show air televis year ago child sis...      1\n",
              "2  beetlejuic well written movi everyth excel act...      1\n",
              "3  twist rumplestiskin captur film star michael k...      1\n",
              "4  beetlejuic excel funni movi keaton hilari wack...      1"
            ]
          },
          "metadata": {
            "tags": []
          },
          "execution_count": 5
        }
      ]
    },
    {
      "metadata": {
        "id": "mG1-gmOdufEs",
        "colab_type": "code",
        "colab": {}
      },
      "cell_type": "code",
      "source": [
        "x = df2.text\n",
        "y = df2.score"
      ],
      "execution_count": 0,
      "outputs": []
    },
    {
      "metadata": {
        "id": "s6I2fceTvS0h",
        "colab_type": "code",
        "colab": {}
      },
      "cell_type": "code",
      "source": [
        "xTrain = x[0:40000]\n",
        "yTrain = y[0:40000]\n",
        "xTest = x[40000:50000]\n",
        "yTest = y[40000:50000]\n"
      ],
      "execution_count": 0,
      "outputs": []
    },
    {
      "metadata": {
        "id": "ELnt7Vt-w8qh",
        "colab_type": "code",
        "outputId": "1ecf30b8-5366-4c18-8bc4-2013518cc447",
        "colab": {
          "base_uri": "https://localhost:8080/",
          "height": 560
        }
      },
      "cell_type": "code",
      "source": [
        "from keras.preprocessing.text import Tokenizer\n",
        "tokenizer = Tokenizer(num_words=5000)\n",
        "tokenizer.fit_on_texts(xTrain)\n",
        "\n",
        "xTrain = tokenizer.texts_to_sequences(xTrain)\n",
        "xTest = tokenizer.texts_to_sequences(xTest)\n",
        "print(len(xTrain))\n",
        "print(len(xTrain[0]))\n",
        "\n",
        "xTrain[0]"
      ],
      "execution_count": 8,
      "outputs": [
        {
          "output_type": "stream",
          "text": [
            "40000\n",
            "29\n"
          ],
          "name": "stdout"
        },
        {
          "output_type": "execute_result",
          "data": {
            "text/plain": [
              "[29,\n",
              " 782,\n",
              " 12,\n",
              " 318,\n",
              " 2072,\n",
              " 3346,\n",
              " 1122,\n",
              " 1196,\n",
              " 532,\n",
              " 106,\n",
              " 2748,\n",
              " 962,\n",
              " 825,\n",
              " 1551,\n",
              " 8,\n",
              " 187,\n",
              " 752,\n",
              " 782,\n",
              " 872,\n",
              " 2749,\n",
              " 1015,\n",
              " 782,\n",
              " 1591,\n",
              " 1754,\n",
              " 318,\n",
              " 101,\n",
              " 253,\n",
              " 1165,\n",
              " 1405]"
            ]
          },
          "metadata": {
            "tags": []
          },
          "execution_count": 8
        }
      ]
    },
    {
      "metadata": {
        "id": "dQuoHfQbxSNa",
        "colab_type": "code",
        "outputId": "5ab08b56-794e-4a09-cd47-a9499a9512a1",
        "colab": {
          "base_uri": "https://localhost:8080/",
          "height": 787
        }
      },
      "cell_type": "code",
      "source": [
        "# truncate and/or pad input sequences\n",
        "max_review_length = 600\n",
        "X_train = sequence.pad_sequences(xTrain, maxlen=max_review_length)\n",
        "X_test = sequence.pad_sequences(xTest, maxlen=max_review_length)\n",
        "\n",
        "print(X_train.shape)\n",
        "print(X_train[1])"
      ],
      "execution_count": 9,
      "outputs": [
        {
          "output_type": "stream",
          "text": [
            "(40000, 600)\n",
            "[   0    0    0    0    0    0    0    0    0    0    0    0    0    0\n",
            "    0    0    0    0    0    0    0    0    0    0    0    0    0    0\n",
            "    0    0    0    0    0    0    0    0    0    0    0    0    0    0\n",
            "    0    0    0    0    0    0    0    0    0    0    0    0    0    0\n",
            "    0    0    0    0    0    0    0    0    0    0    0    0    0    0\n",
            "    0    0    0    0    0    0    0    0    0    0    0    0    0    0\n",
            "    0    0    0    0    0    0    0    0    0    0    0    0    0    0\n",
            "    0    0    0    0    0    0    0    0    0    0    0    0    0    0\n",
            "    0    0    0    0    0    0    0    0    0    0    0    0    0    0\n",
            "    0    0    0    0    0    0    0    0    0    0    0    0    0    0\n",
            "    0    0    0    0    0    0    0    0    0    0    0    0    0    0\n",
            "    0    0    0    0    0    0    0    0    0    0    0    0    0    0\n",
            "    0    0    0    0    0    0    0    0    0    0    0    0    0    0\n",
            "    0    0    0    0    0    0    0    0    0    0    0    0    0    0\n",
            "    0    0    0    0    0    0    0    0    0    0    0    0    0    0\n",
            "    0    0    0    0    0    0    0    0    0    0    0    0    0    0\n",
            "    0    0    0    0    0    0    0    0    0    0    0    0    0    0\n",
            "    0    0    0    0    0    0    0    0    0    0    0    0    0    0\n",
            "    0    0    0    0    0    0    0    0    0    0    0    0    0    0\n",
            "    0    0    0    0    0    0    0    0    0    0    0    0    0    0\n",
            "    0    0    0    0    0    0    0    0    0    0    0    0    0    0\n",
            "    0    0    0    0    0    0    0    0    0    0    0    0    0    0\n",
            "    0    0    0    0    0    0    0    0    0    0    0    0    0    0\n",
            "    0    0    0    0    0    0    0    0    0    0    0    0    0    0\n",
            "    0    0    0    0    0    0    0    0    0    0    0    0    0    0\n",
            "    0    0    0    0    0    0    0    0    0    0    0    0    0    0\n",
            "    0    0    0    0    0    0    0    0    0    0    0    0    0    0\n",
            "    0    0    0    0    0    0    0    0    0    0    0    0    0    0\n",
            "    0    0    0    0    0    0    0    0    0    0    0    0    0    0\n",
            "    0    0    0    0    0    0    0    0    0    0    0    0    0    0\n",
            "    0    0    0    0    0    0    0    0    0    0    0    0    0    0\n",
            "    0    0    0    0    0    0    0    0    0    0    0    0    0    0\n",
            "    0    0    0    0    0    0    0    0    0    0    0    0    0    0\n",
            "    0    0    0    0    0    0    0    0    0    0    0    0    0    0\n",
            "    0    0    0    0    0    0    0    0    0    0    0    0    0    0\n",
            "    0    0    0    0    0    0    0    0    0    0    0    0    0    0\n",
            "    0    0    0    0    0    0    0    0    0    0    0    0    0    0\n",
            "    0    0    0    0    0    0    0    0    0    0    0    0    0    0\n",
            "    0    0    0    0    0    0    0    0    0    0    0    0    0    0\n",
            "    0    0    0    0    0    0    0    0    0    0    0    0    0    0\n",
            "    0    0    0    0    0    0    0    0    0    0    0  495  164  786\n",
            " 1057   43  319  821 1182  578   72   44 3289  128    7 2671  782 3404\n",
            " 1844 2927 4796  345  117  855   80  532  782  611  544  244]\n"
          ],
          "name": "stdout"
        }
      ]
    },
    {
      "metadata": {
        "id": "2XwaG2Ws2e-b",
        "colab_type": "text"
      },
      "cell_type": "markdown",
      "source": [
        "# Single Layer LSTM"
      ]
    },
    {
      "metadata": {
        "id": "VcuRHSlGyYBm",
        "colab_type": "code",
        "outputId": "495a0a6e-8365-4d50-e7e2-18a75e4931cb",
        "colab": {
          "base_uri": "https://localhost:8080/",
          "height": 297
        }
      },
      "cell_type": "code",
      "source": [
        "# create the model\n",
        "embedding_vecor_length = 32\n",
        "model = Sequential()\n",
        "model.add(Embedding(5000, embedding_vecor_length, input_length=max_review_length))\n",
        "model.add(LSTM(100))\n",
        "model.add(Dropout(0.2))\n",
        "model.add(Dense(1, activation='sigmoid'))\n",
        "model.compile(loss='binary_crossentropy', optimizer='adam', metrics=['accuracy'])\n",
        "print(model.summary())\n",
        "#Refer: https://datascience.stackexchange.com/questions/10615/number-of-parameters-in-an-lstm-model"
      ],
      "execution_count": 22,
      "outputs": [
        {
          "output_type": "stream",
          "text": [
            "_________________________________________________________________\n",
            "Layer (type)                 Output Shape              Param #   \n",
            "=================================================================\n",
            "embedding_3 (Embedding)      (None, 600, 32)           160000    \n",
            "_________________________________________________________________\n",
            "lstm_3 (LSTM)                (None, 100)               53200     \n",
            "_________________________________________________________________\n",
            "dropout_3 (Dropout)          (None, 100)               0         \n",
            "_________________________________________________________________\n",
            "dense_3 (Dense)              (None, 1)                 101       \n",
            "=================================================================\n",
            "Total params: 213,301\n",
            "Trainable params: 213,301\n",
            "Non-trainable params: 0\n",
            "_________________________________________________________________\n",
            "None\n"
          ],
          "name": "stdout"
        }
      ]
    },
    {
      "metadata": {
        "id": "4oPJ1nyDy4Aw",
        "colab_type": "code",
        "outputId": "4e3d1c41-7932-41b6-a5dd-14f321f400b8",
        "colab": {
          "base_uri": "https://localhost:8080/",
          "height": 402
        }
      },
      "cell_type": "code",
      "source": [
        "history = model.fit(X_train, yTrain, batch_size=64, epochs=5, verbose=1, validation_data=(X_test, yTest))\n"
      ],
      "execution_count": 15,
      "outputs": [
        {
          "output_type": "stream",
          "text": [
            "Train on 40000 samples, validate on 10000 samples\n",
            "Epoch 1/5\n",
            "40000/40000 [==============================] - 736s 18ms/step - loss: 0.2420 - acc: 0.9141 - val_loss: 0.2174 - val_acc: 0.9182\n",
            "Epoch 2/5\n",
            "40000/40000 [==============================] - 734s 18ms/step - loss: 0.1624 - acc: 0.9411 - val_loss: 0.2073 - val_acc: 0.9232\n",
            "Epoch 3/5\n",
            "40000/40000 [==============================] - 733s 18ms/step - loss: 0.1397 - acc: 0.9501 - val_loss: 0.2179 - val_acc: 0.9176\n",
            "Epoch 4/5\n",
            "40000/40000 [==============================] - 734s 18ms/step - loss: 0.1245 - acc: 0.9558 - val_loss: 0.2302 - val_acc: 0.9193\n",
            "Epoch 5/5\n",
            "36608/40000 [==========================>...] - ETA: 56s - loss: 0.1111 - acc: 0.9631Train on 40000 samples, validate on 10000 samples\n",
            "Epoch 1/5\n",
            "40000/40000 [==============================] - 736s 18ms/step - loss: 0.2420 - acc: 0.9141 - val_loss: 0.2174 - val_acc: 0.9182\n",
            "Epoch 2/5\n",
            "40000/40000 [==============================] - 734s 18ms/step - loss: 0.1624 - acc: 0.9411 - val_loss: 0.2073 - val_acc: 0.9232\n",
            "Epoch 3/5\n",
            "40000/40000 [==============================] - 733s 18ms/step - loss: 0.1397 - acc: 0.9501 - val_loss: 0.2179 - val_acc: 0.9176\n",
            "Epoch 4/5\n",
            "40000/40000 [==============================] - 734s 18ms/step - loss: 0.1245 - acc: 0.9558 - val_loss: 0.2302 - val_acc: 0.9193\n",
            "Epoch 5/5\n",
            "40000/40000 [==============================] - 737s 18ms/step - loss: 0.1118 - acc: 0.9623 - val_loss: 0.2447 - val_acc: 0.9184\n",
            "40000/40000 [==============================] - 737s 18ms/step - loss: 0.1118 - acc: 0.9623 - val_loss: 0.2447 - val_acc: 0.9184\n"
          ],
          "name": "stdout"
        }
      ]
    },
    {
      "metadata": {
        "id": "BTNo5rEvwc0-",
        "colab_type": "code",
        "colab": {
          "base_uri": "https://localhost:8080/",
          "height": 52
        },
        "outputId": "721ebcd1-96ed-4215-8b7a-ac78cc1ada48"
      },
      "cell_type": "code",
      "source": [
        "score = model.evaluate(X_test, yTest, verbose=0) \n",
        "print('Test score:', score[0]) \n",
        "print('Test accuracy:', score[1])\n",
        "x = list(range(1,6))\n",
        "vy = history.history['val_loss']\n",
        "ty = history.history['loss']"
      ],
      "execution_count": 18,
      "outputs": [
        {
          "output_type": "stream",
          "text": [
            "Test score: 0.2447469062358141\n",
            "Test accuracy: 0.9184\n"
          ],
          "name": "stdout"
        }
      ]
    },
    {
      "metadata": {
        "id": "29RLPiQOh8aH",
        "colab_type": "code",
        "colab": {}
      },
      "cell_type": "code",
      "source": [
        "table.add_row([\"1\", 91.84])"
      ],
      "execution_count": 0,
      "outputs": []
    },
    {
      "metadata": {
        "id": "jgCxPO5a_QT3",
        "colab_type": "code",
        "colab": {
          "base_uri": "https://localhost:8080/",
          "height": 361
        },
        "outputId": "436f1f44-914f-45e8-a879-3f4401a76112"
      },
      "cell_type": "code",
      "source": [
        "import matplotlib.pyplot as plt\n",
        "\n",
        "plt.plot(x, ty, 'b', label= 'Train loss')\n",
        "plt.plot(x, vy, 'r', label= 'Val loss')\n",
        "plt.legend()\n",
        "plt.xlabel(\"Number Of Epochs\")\n",
        "plt.ylabel(\"Categorical Cross  Entrophy loss\")\n",
        "plt.show()\n"
      ],
      "execution_count": 20,
      "outputs": [
        {
          "output_type": "display_data",
          "data": {
            "image/png": "[encoded data removed]",
            "text/plain": [
              "<Figure size 576x396 with 1 Axes>"
            ]
          },
          "metadata": {
            "tags": []
          }
        }
      ]
    },
    {
      "metadata": {
        "id": "2W4MR0eaAnQh",
        "colab_type": "text"
      },
      "cell_type": "markdown",
      "source": [
        "# Observation :- \n",
        "At epoch 2 we find that there is increase in cv loss while there is decrease in train loss\n",
        "so we are actually overfitting the model"
      ]
    },
    {
      "metadata": {
        "id": "3RpjUGm0BANr",
        "colab_type": "code",
        "colab": {
          "base_uri": "https://localhost:8080/",
          "height": 483
        },
        "outputId": "3ed52aa8-8459-4082-b78a-057ad804d73c"
      },
      "cell_type": "code",
      "source": [
        "# re running the model with 2 epochs to avoid overfitting \n",
        "history = model.fit(X_train, yTrain, batch_size=64, epochs=2, verbose=1, validation_data=(X_test, yTest))\n",
        "\n",
        "score = model.evaluate(X_test, yTest, verbose=0) \n",
        "print('Test score:', score[0]) \n",
        "print('Test accuracy:', score[1])\n",
        "x = list(range(1,3))\n",
        "vy = history.history['val_loss']\n",
        "ty = history.history['loss']\n",
        "\n",
        "plt.plot(x, ty, 'b', label= 'Train loss')\n",
        "plt.plot(x, vy, 'r', label= 'Val loss')\n",
        "plt.legend()\n",
        "plt.xlabel(\"Number Of Epochs\")\n",
        "plt.ylabel(\"Categorical Cross  Entrophy loss\")\n",
        "plt.show()\n",
        "\n"
      ],
      "execution_count": 23,
      "outputs": [
        {
          "output_type": "stream",
          "text": [
            "Train on 40000 samples, validate on 10000 samples\n",
            "Epoch 1/2\n",
            "40000/40000 [==============================] - 741s 19ms/step - loss: 0.2474 - acc: 0.9112 - val_loss: 0.2093 - val_acc: 0.9205\n",
            "Epoch 2/2\n",
            "40000/40000 [==============================] - 738s 18ms/step - loss: 0.1673 - acc: 0.9362 - val_loss: 0.2071 - val_acc: 0.9230\n",
            "Test score: 0.20710074213147164\n",
            "Test accuracy: 0.923\n"
          ],
          "name": "stdout"
        },
        {
          "output_type": "display_data",
          "data": {
            "image/png": "[encoded data removed]",
            "text/plain": [
              "<Figure size 576x396 with 1 Axes>"
            ]
          },
          "metadata": {
            "tags": []
          }
        }
      ]
    },
    {
      "metadata": {
        "id": "zyeXfY2l4Xlc",
        "colab_type": "text"
      },
      "cell_type": "markdown",
      "source": [
        "# Two layer LSTM"
      ]
    },
    {
      "metadata": {
        "id": "fhkqGfVK0N2M",
        "colab_type": "code",
        "outputId": "fedf8d5a-5841-40e6-a7f5-48dadc70db02",
        "colab": {
          "base_uri": "https://localhost:8080/",
          "height": 457
        }
      },
      "cell_type": "code",
      "source": [
        "# create the model\n",
        "embedding_vecor_length = 32\n",
        "model1 = Sequential()\n",
        "model1.add(Embedding(5000, embedding_vecor_length, input_length=max_review_length))\n",
        "model1.add(LSTM(100, return_sequences=True))\n",
        "# for reference how to use two layer lstm https://github.com/keras-team/keras/issues/3522\n",
        "model1.add(LSTM(100))\n",
        "\n",
        "model1.add(Dropout(0.2))\n",
        "model1.add(Dense(1, activation='sigmoid'))\n",
        "model1.compile(loss='binary_crossentropy', optimizer='adam', metrics=['accuracy'])\n",
        "print(model1.summary())\n",
        "#Refer: https://datascience.stackexchange.com/questions/10615/number-of-parameters-in-an-lstm-model"
      ],
      "execution_count": 10,
      "outputs": [
        {
          "output_type": "stream",
          "text": [
            "WARNING:tensorflow:From /usr/local/lib/python3.6/dist-packages/tensorflow/python/framework/op_def_library.py:263: colocate_with (from tensorflow.python.framework.ops) is deprecated and will be removed in a future version.\n",
            "Instructions for updating:\n",
            "Colocations handled automatically by placer.\n",
            "WARNING:tensorflow:From /usr/local/lib/python3.6/dist-packages/keras/backend/tensorflow_backend.py:3445: calling dropout (from tensorflow.python.ops.nn_ops) with keep_prob is deprecated and will be removed in a future version.\n",
            "Instructions for updating:\n",
            "Please use `rate` instead of `keep_prob`. Rate should be set to `rate = 1 - keep_prob`.\n",
            "_________________________________________________________________\n",
            "Layer (type)                 Output Shape              Param #   \n",
            "=================================================================\n",
            "embedding_1 (Embedding)      (None, 600, 32)           160000    \n",
            "_________________________________________________________________\n",
            "lstm_1 (LSTM)                (None, 600, 100)          53200     \n",
            "_________________________________________________________________\n",
            "lstm_2 (LSTM)                (None, 100)               80400     \n",
            "_________________________________________________________________\n",
            "dropout_1 (Dropout)          (None, 100)               0         \n",
            "_________________________________________________________________\n",
            "dense_1 (Dense)              (None, 1)                 101       \n",
            "=================================================================\n",
            "Total params: 293,701\n",
            "Trainable params: 293,701\n",
            "Non-trainable params: 0\n",
            "_________________________________________________________________\n",
            "None\n"
          ],
          "name": "stdout"
        }
      ]
    },
    {
      "metadata": {
        "id": "a61PLKME4pex",
        "colab_type": "code",
        "outputId": "53a31782-208b-479a-e009-0349baaa6628",
        "colab": {
          "base_uri": "https://localhost:8080/",
          "height": 282
        }
      },
      "cell_type": "code",
      "source": [
        "history1 = model1.fit(X_train, yTrain, batch_size=64, epochs=5, verbose=1, validation_data=(X_test, yTest))\n"
      ],
      "execution_count": 11,
      "outputs": [
        {
          "output_type": "stream",
          "text": [
            "WARNING:tensorflow:From /usr/local/lib/python3.6/dist-packages/tensorflow/python/ops/math_ops.py:3066: to_int32 (from tensorflow.python.ops.math_ops) is deprecated and will be removed in a future version.\n",
            "Instructions for updating:\n",
            "Use tf.cast instead.\n",
            "Train on 40000 samples, validate on 10000 samples\n",
            "Epoch 1/5\n",
            "40000/40000 [==============================] - 1551s 39ms/step - loss: 0.2372 - acc: 0.9155 - val_loss: 0.2157 - val_acc: 0.9205\n",
            "Epoch 2/5\n",
            "40000/40000 [==============================] - 1554s 39ms/step - loss: 0.1610 - acc: 0.9411 - val_loss: 0.2459 - val_acc: 0.9184\n",
            "Epoch 3/5\n",
            "40000/40000 [==============================] - 1549s 39ms/step - loss: 0.1426 - acc: 0.9493 - val_loss: 0.2396 - val_acc: 0.9208\n",
            "Epoch 4/5\n",
            "40000/40000 [==============================] - 1555s 39ms/step - loss: 0.1221 - acc: 0.9576 - val_loss: 0.2244 - val_acc: 0.9188\n",
            "Epoch 5/5\n",
            "40000/40000 [==============================] - 1554s 39ms/step - loss: 0.1049 - acc: 0.9651 - val_loss: 0.2516 - val_acc: 0.9160\n"
          ],
          "name": "stdout"
        }
      ]
    },
    {
      "metadata": {
        "id": "-OaDtZuE4sUY",
        "colab_type": "code",
        "outputId": "5c9ed634-9e4d-45d6-e1a5-46937b273861",
        "colab": {
          "base_uri": "https://localhost:8080/",
          "height": 52
        }
      },
      "cell_type": "code",
      "source": [
        "score = model1.evaluate(X_test, yTest, verbose=0) \n",
        "print('Test score:', score[0]) \n",
        "print('Test accuracy:', score[1])\n",
        "x = list(range(1,6))\n",
        "vy = history1.history['val_loss']\n",
        "ty = history1.history['loss']"
      ],
      "execution_count": 14,
      "outputs": [
        {
          "output_type": "stream",
          "text": [
            "Test score: 0.2516394125878811\n",
            "Test accuracy: 0.916\n"
          ],
          "name": "stdout"
        }
      ]
    },
    {
      "metadata": {
        "id": "aYgt_OPTiFzC",
        "colab_type": "code",
        "colab": {}
      },
      "cell_type": "code",
      "source": [
        "table.add_row([\"2\", \"91.6\"])"
      ],
      "execution_count": 0,
      "outputs": []
    },
    {
      "metadata": {
        "id": "OAPDU9ES407O",
        "colab_type": "code",
        "colab": {
          "base_uri": "https://localhost:8080/",
          "height": 361
        },
        "outputId": "7b82c0c4-3039-47b1-8ce6-767cf67226b2"
      },
      "cell_type": "code",
      "source": [
        "\n",
        "import matplotlib.pyplot as plt\n",
        "\n",
        "plt.plot(x, ty, 'b', label= 'Train loss')\n",
        "plt.plot(x, vy, 'r', label= 'Val loss')\n",
        "plt.legend()\n",
        "plt.xlabel(\"Number Of Epochs\")\n",
        "plt.ylabel(\"Categorical Cross  Entrophy loss\")\n",
        "plt.show()"
      ],
      "execution_count": 15,
      "outputs": [
        {
          "output_type": "display_data",
          "data": {
            "image/png": "[encoded data removed]",
            "text/plain": [
              "<Figure size 576x396 with 1 Axes>"
            ]
          },
          "metadata": {
            "tags": []
          }
        }
      ]
    },
    {
      "metadata": {
        "id": "bJir1wAFguzG",
        "colab_type": "text"
      },
      "cell_type": "markdown",
      "source": [
        "# Observation\n",
        "Nothing can be concluded as there is frequently up and down in the cv data we might come to an conclusion if we let it run for more epochs"
      ]
    },
    {
      "metadata": {
        "id": "tBIPNQ7diNrV",
        "colab_type": "code",
        "colab": {
          "base_uri": "https://localhost:8080/",
          "height": 122
        },
        "outputId": "c7cc4b85-57ee-43be-f27a-87d2b7c27829"
      },
      "cell_type": "code",
      "source": [
        "print(table)"
      ],
      "execution_count": 20,
      "outputs": [
        {
          "output_type": "stream",
          "text": [
            "+---------------+----------+\n",
            "| layer of Lstm | Accuracy |\n",
            "+---------------+----------+\n",
            "|       1       |  91.84   |\n",
            "|       2       |   91.6   |\n",
            "+---------------+----------+\n"
          ],
          "name": "stdout"
        }
      ]
    },
    {
      "metadata": {
        "id": "9pk8UkLEhBN1",
        "colab_type": "text"
      },
      "cell_type": "markdown",
      "source": [
        "# Conclusions\n",
        "1. **Single layer LSTM ** model has been fitted perfectly within 2 epochs\n",
        "2. **Double layer LSTM** model need to run for more epochs as there is frequently change in cv loss"
      ]
    },
    {
      "metadata": {
        "id": "l619NgtJfloX",
        "colab_type": "code",
        "colab": {}
      },
      "cell_type": "code",
      "source": [
        ""
      ],
      "execution_count": 0,
      "outputs": []
    }
  ]
}